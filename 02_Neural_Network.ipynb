{
 "cells": [
  {
   "cell_type": "code",
   "execution_count": 1,
   "metadata": {},
   "outputs": [],
   "source": [
    "import pandas as pd\n",
    "import numpy as np\n",
    "import torch\n",
    "from torch import nn\n",
    "from torch.utils.data import Dataset, DataLoader"
   ]
  },
  {
   "cell_type": "code",
   "execution_count": 2,
   "metadata": {},
   "outputs": [],
   "source": [
    "data = np.load('data.npz')\n",
    "X_train = data['X_train']\n",
    "X_test = data['X_test']\n",
    "y_train = data['y_train']\n",
    "y_test = data['y_test']"
   ]
  },
  {
   "cell_type": "code",
   "execution_count": 3,
   "metadata": {},
   "outputs": [],
   "source": [
    "class SDHDataset(Dataset):\n",
    "    def __init__(self, data, label, transform=None, target_transform=None):\n",
    "        self.label = label\n",
    "        self.data = data\n",
    "        self.transform = transform\n",
    "        self.target_transform = target_transform\n",
    "\n",
    "    def __len__(self):\n",
    "        return len(self.label)\n",
    "\n",
    "    def __getitem__(self, idx):\n",
    "        data = self.data[idx]\n",
    "        label = self.label[idx]\n",
    "        \n",
    "        if self.transform:\n",
    "            data = self.transform(data)\n",
    "        if self.target_transform:\n",
    "            label = self.target_transform(label)\n",
    "        return data, label"
   ]
  },
  {
   "cell_type": "code",
   "execution_count": 4,
   "metadata": {},
   "outputs": [],
   "source": [
    "func = lambda x: torch.tensor(x, dtype=torch.float)\n",
    "train_dataset = SDHDataset(X_train, y_train, transform = func, target_transform = func)\n",
    "test_dataset = SDHDataset(X_test, y_test, transform = func, target_transform = func)"
   ]
  },
  {
   "cell_type": "code",
   "execution_count": 5,
   "metadata": {},
   "outputs": [],
   "source": [
    "train_dataloader = DataLoader(train_dataset, batch_size=64, shuffle=True)\n",
    "test_dataloader = DataLoader(test_dataset, batch_size=64, shuffle=True)"
   ]
  },
  {
   "cell_type": "code",
   "execution_count": 6,
   "metadata": {},
   "outputs": [
    {
     "name": "stdout",
     "output_type": "stream",
     "text": [
      "Using cuda device\n"
     ]
    }
   ],
   "source": [
    "device = (\n",
    "    \"cuda\"\n",
    "    if torch.cuda.is_available()\n",
    "    else \"mps\"\n",
    "    if torch.backends.mps.is_available()\n",
    "    else \"cpu\"\n",
    ")\n",
    "print(f\"Using {device} device\")"
   ]
  },
  {
   "cell_type": "code",
   "execution_count": 7,
   "metadata": {},
   "outputs": [],
   "source": [
    "class NeuralNetwork(nn.Module):\n",
    "    def __init__(self):\n",
    "        super().__init__()\n",
    "        self.linear_relu_stack = nn.Sequential(\n",
    "            nn.Linear(20, 15),\n",
    "            nn.ReLU(),\n",
    "            nn.Linear(15, 10),\n",
    "            nn.ReLU(),\n",
    "            nn.Linear(10, 10),\n",
    "            nn.ReLU(),\n",
    "            nn.Linear(10, 1),\n",
    "            # nn.Sigmoid()  \n",
    "        )\n",
    "\n",
    "    def forward(self, x):\n",
    "        return self.linear_relu_stack(x)"
   ]
  },
  {
   "cell_type": "code",
   "execution_count": 8,
   "metadata": {},
   "outputs": [],
   "source": [
    "model = NeuralNetwork().to(device)"
   ]
  },
  {
   "cell_type": "code",
   "execution_count": 9,
   "metadata": {},
   "outputs": [],
   "source": [
    "learning_rate = 1e-3\n",
    "batch_size = 64\n",
    "epochs = 5\n",
    "\n",
    "loss_fn = nn.MSELoss()\n",
    "optimizer = torch.optim.Adam(model.parameters(), lr=learning_rate)"
   ]
  },
  {
   "cell_type": "code",
   "execution_count": 10,
   "metadata": {},
   "outputs": [],
   "source": [
    "def train_loop(dataloader, model, loss_fn, optimizer):\n",
    "    size = len(dataloader.dataset)\n",
    "\n",
    "    model.train()\n",
    "    for batch, (X, y) in enumerate(dataloader):\n",
    "\n",
    "        X, y = X.to(device), y.to(device)\n",
    "        pred = model(X)\n",
    "        loss = loss_fn(pred, y)\n",
    "\n",
    "\n",
    "        loss.backward()\n",
    "        optimizer.step()\n",
    "        optimizer.zero_grad()\n",
    "\n",
    "        if batch % 100 == 0:\n",
    "            loss, current = loss.item(), batch * batch_size + len(X)\n",
    "            print(f\"loss: {loss:>7f}  [{current:>5d}/{size:>5d}]\")\n",
    "\n",
    "\n",
    "def test_loop(dataloader, model, loss_fn):\n",
    "    model.eval()\n",
    "    num_batches = len(dataloader)\n",
    "    test_loss = 0\n",
    "    total_rmse = 0\n",
    "    \n",
    "    with torch.no_grad():\n",
    "        for X, y in dataloader:\n",
    "            X, y = X.to(device), y.to(device)\n",
    "            pred = model(X)\n",
    "            test_loss += loss_fn(pred, y.view(-1, 1)).item()\n",
    "            \n",
    "            mse = torch.mean((pred - y.view(-1, 1))**2).item()\n",
    "            rmse = mse**0.5\n",
    "            total_rmse += rmse\n",
    "            \n",
    "    test_loss /= num_batches\n",
    "    avg_rmse = total_rmse / num_batches\n",
    "    print(f\"Test Avg loss: {test_loss:>8f}\")\n",
    "    print(f\"Average RMSE: {avg_rmse:>8f}\\n\")\n"
   ]
  },
  {
   "cell_type": "code",
   "execution_count": 11,
   "metadata": {},
   "outputs": [
    {
     "name": "stdout",
     "output_type": "stream",
     "text": [
      "Epoch 1\n",
      "-------------------------------\n",
      "loss: 0.443754  [   64/  747]\n",
      "Test Avg loss: 0.366966\n",
      "Average RMSE: 0.605674\n",
      "\n",
      "Epoch 2\n",
      "-------------------------------\n",
      "loss: 0.306712  [   64/  747]\n",
      "Test Avg loss: 0.256404\n",
      "Average RMSE: 0.506157\n",
      "\n",
      "Epoch 3\n",
      "-------------------------------\n",
      "loss: 0.213602  [   64/  747]\n",
      "Test Avg loss: 0.156912\n",
      "Average RMSE: 0.395915\n",
      "\n",
      "Epoch 4\n",
      "-------------------------------\n",
      "loss: 0.151456  [   64/  747]\n"
     ]
    },
    {
     "name": "stderr",
     "output_type": "stream",
     "text": [
      "/home/edward/Documents/projects/2024Fall/CS4774/.venv/lib/python3.12/site-packages/torch/nn/modules/loss.py:608: UserWarning: Using a target size (torch.Size([64])) that is different to the input size (torch.Size([64, 1])). This will likely lead to incorrect results due to broadcasting. Please ensure they have the same size.\n",
      "  return F.mse_loss(input, target, reduction=self.reduction)\n",
      "/home/edward/Documents/projects/2024Fall/CS4774/.venv/lib/python3.12/site-packages/torch/nn/modules/loss.py:608: UserWarning: Using a target size (torch.Size([43])) that is different to the input size (torch.Size([43, 1])). This will likely lead to incorrect results due to broadcasting. Please ensure they have the same size.\n",
      "  return F.mse_loss(input, target, reduction=self.reduction)\n"
     ]
    },
    {
     "name": "stdout",
     "output_type": "stream",
     "text": [
      "Test Avg loss: 0.079170\n",
      "Average RMSE: 0.278554\n",
      "\n",
      "Epoch 5\n",
      "-------------------------------\n",
      "loss: 0.068622  [   64/  747]\n",
      "Test Avg loss: 0.044313\n",
      "Average RMSE: 0.210482\n",
      "\n",
      "Epoch 6\n",
      "-------------------------------\n",
      "loss: 0.066806  [   64/  747]\n",
      "Test Avg loss: 0.030488\n",
      "Average RMSE: 0.174477\n",
      "\n",
      "Epoch 7\n",
      "-------------------------------\n",
      "loss: 0.045260  [   64/  747]\n",
      "Test Avg loss: 0.024150\n",
      "Average RMSE: 0.155214\n",
      "\n",
      "Epoch 8\n",
      "-------------------------------\n",
      "loss: 0.038299  [   64/  747]\n",
      "Test Avg loss: 0.023210\n",
      "Average RMSE: 0.152141\n",
      "\n",
      "Epoch 9\n",
      "-------------------------------\n",
      "loss: 0.036935  [   64/  747]\n",
      "Test Avg loss: 0.022185\n",
      "Average RMSE: 0.148526\n",
      "\n",
      "Epoch 10\n",
      "-------------------------------\n",
      "loss: 0.030560  [   64/  747]\n",
      "Test Avg loss: 0.021714\n",
      "Average RMSE: 0.147117\n",
      "\n",
      "Epoch 11\n",
      "-------------------------------\n",
      "loss: 0.029027  [   64/  747]\n",
      "Test Avg loss: 0.021444\n",
      "Average RMSE: 0.146421\n",
      "\n",
      "Epoch 12\n",
      "-------------------------------\n",
      "loss: 0.026793  [   64/  747]\n",
      "Test Avg loss: 0.021065\n",
      "Average RMSE: 0.144734\n",
      "\n",
      "Epoch 13\n",
      "-------------------------------\n",
      "loss: 0.041723  [   64/  747]\n",
      "Test Avg loss: 0.020741\n",
      "Average RMSE: 0.143829\n",
      "\n",
      "Epoch 14\n",
      "-------------------------------\n",
      "loss: 0.026129  [   64/  747]\n",
      "Test Avg loss: 0.020451\n",
      "Average RMSE: 0.142911\n",
      "\n",
      "Epoch 15\n",
      "-------------------------------\n",
      "loss: 0.028324  [   64/  747]\n",
      "Test Avg loss: 0.020637\n",
      "Average RMSE: 0.143434\n",
      "\n",
      "Epoch 16\n",
      "-------------------------------\n",
      "loss: 0.027258  [   64/  747]\n",
      "Test Avg loss: 0.020467\n",
      "Average RMSE: 0.142910\n",
      "\n",
      "Epoch 17\n",
      "-------------------------------\n",
      "loss: 0.027184  [   64/  747]\n",
      "Test Avg loss: 0.020626\n",
      "Average RMSE: 0.143614\n",
      "\n",
      "Epoch 18\n",
      "-------------------------------\n",
      "loss: 0.029239  [   64/  747]\n",
      "Test Avg loss: 0.020761\n",
      "Average RMSE: 0.143637\n",
      "\n",
      "Epoch 19\n",
      "-------------------------------\n",
      "loss: 0.030489  [   64/  747]\n",
      "Test Avg loss: 0.020851\n",
      "Average RMSE: 0.144164\n",
      "\n",
      "Epoch 20\n",
      "-------------------------------\n",
      "loss: 0.019956  [   64/  747]\n",
      "Test Avg loss: 0.021023\n",
      "Average RMSE: 0.144140\n",
      "\n",
      "Done!\n"
     ]
    }
   ],
   "source": [
    "epochs = 20\n",
    "for t in range(epochs):\n",
    "    print(f\"Epoch {t+1}\\n-------------------------------\")\n",
    "    train_loop(train_dataloader, model, loss_fn, optimizer)\n",
    "    test_loop(test_dataloader, model, loss_fn)\n",
    "print(\"Done!\")"
   ]
  },
  {
   "cell_type": "code",
   "execution_count": 12,
   "metadata": {},
   "outputs": [],
   "source": [
    "class RandomNetwork(nn.Module):\n",
    "    def __init__(self):\n",
    "        super().__init__()\n",
    "        self.linear_relu_stack = nn.Sequential(\n",
    "            nn.Linear(20, 40),\n",
    "            nn.ReLU(),\n",
    "            nn.Linear(40, 1),\n",
    "            nn.Sigmoid()\n",
    "        )\n",
    "        \n",
    "        # Initialize weights with high variance for more random-like behavior\n",
    "        for layer in self.modules():\n",
    "            if isinstance(layer, nn.Linear):\n",
    "                nn.init.normal_(layer.weight, mean=0, std=2.0)\n",
    "                nn.init.normal_(layer.bias, mean=0, std=2.0)\n",
    "    \n",
    "    def forward(self, x):\n",
    "        return self.linear_relu_stack(x)\n",
    "\n",
    "# Create model\n",
    "model = RandomNetwork()"
   ]
  },
  {
   "cell_type": "code",
   "execution_count": null,
   "metadata": {},
   "outputs": [],
   "source": []
  }
 ],
 "metadata": {
  "kernelspec": {
   "display_name": ".venv",
   "language": "python",
   "name": "python3"
  },
  "language_info": {
   "codemirror_mode": {
    "name": "ipython",
    "version": 3
   },
   "file_extension": ".py",
   "mimetype": "text/x-python",
   "name": "python",
   "nbconvert_exporter": "python",
   "pygments_lexer": "ipython3",
   "version": "3.12.3"
  }
 },
 "nbformat": 4,
 "nbformat_minor": 2
}
